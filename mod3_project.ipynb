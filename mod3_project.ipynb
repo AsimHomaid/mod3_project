{
 "cells": [
  {
   "cell_type": "markdown",
   "metadata": {},
   "source": [
    "# Pitchfork review analysis\n",
    "### made by $DS^3$\n",
    "June 26, 2019"
   ]
  },
  {
   "cell_type": "code",
   "execution_count": null,
   "metadata": {},
   "outputs": [],
   "source": [
    "# for database\n",
    "import psycopg2\n",
    "\n",
    "# for data science\n",
    "import numpy as np\n",
    "import pandas as pd\n",
    "\n",
    "# for statistics\n",
    "from scipy import stats"
   ]
  },
  {
   "cell_type": "code",
   "execution_count": null,
   "metadata": {},
   "outputs": [],
   "source": [
    "conn = psycopg2.connect(\"dbname='musicreviewdb'user='shufang'\")\n",
    "c = conn.cursor()"
   ]
  },
  {
   "cell_type": "code",
   "execution_count": null,
   "metadata": {},
   "outputs": [],
   "source": [
    "c.execute('''select * from genres''')\n",
    "genres_df = pd.DataFrame(c.fetchall())\n",
    "genres_df.columns = [x[0] for x in c.description]\n",
    "genres_df.head()"
   ]
  },
  {
   "cell_type": "code",
   "execution_count": null,
   "metadata": {},
   "outputs": [],
   "source": [
    "c.execute('''select * from reviews''')\n",
    "reviews_df = pd.DataFrame(c.fetchall())\n",
    "reviews_df.columns = [x[0] for x in c.description]\n",
    "reviews_df.head()"
   ]
  },
  {
   "cell_type": "code",
   "execution_count": null,
   "metadata": {},
   "outputs": [],
   "source": [
    "c.execute('''select * from labels''')\n",
    "labels_df = pd.DataFrame(c.fetchall())\n",
    "labels_df.columns = [x[0] for x in c.description]\n",
    "labels_df.head()"
   ]
  },
  {
   "cell_type": "code",
   "execution_count": null,
   "metadata": {},
   "outputs": [],
   "source": []
  }
 ],
 "metadata": {
  "kernelspec": {
   "display_name": "Python 3",
   "language": "python",
   "name": "python3"
  },
  "language_info": {
   "codemirror_mode": {
    "name": "ipython",
    "version": 3
   },
   "file_extension": ".py",
   "mimetype": "text/x-python",
   "name": "python",
   "nbconvert_exporter": "python",
   "pygments_lexer": "ipython3",
   "version": "3.7.3"
  }
 },
 "nbformat": 4,
 "nbformat_minor": 2
}
